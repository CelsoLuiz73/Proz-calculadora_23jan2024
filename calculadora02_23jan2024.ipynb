{
  "nbformat": 4,
  "nbformat_minor": 0,
  "metadata": {
    "colab": {
      "provenance": [],
      "authorship_tag": "ABX9TyMR9Rj97aeVp07JGMBPC4IE",
      "include_colab_link": true
    },
    "kernelspec": {
      "name": "python3",
      "display_name": "Python 3"
    },
    "language_info": {
      "name": "python"
    }
  },
  "cells": [
    {
      "cell_type": "markdown",
      "metadata": {
        "id": "view-in-github",
        "colab_type": "text"
      },
      "source": [
        "<a href=\"https://colab.research.google.com/github/CelsoLuiz73/Proz-calculadora_23jan2024/blob/master/calculadora02_23jan2024.ipynb\" target=\"_parent\"><img src=\"https://colab.research.google.com/assets/colab-badge.svg\" alt=\"Open In Colab\"/></a>"
      ]
    },
    {
      "cell_type": "markdown",
      "source": [
        "#Calculadora<br>\n",
        "Faça uma função calculadora que os números e as operações serão feitas pelo usuário. O código deve ficar rodando infinitamente até que o usuário escolha a opção de sair. No início, o programa mostrará a seguinte lista de operações:\n",
        "\n",
        "1: Soma<br>\n",
        "2: Subtração<br>\n",
        "3: Multiplicação<br>\n",
        "4: Divisão<br>\n",
        "0: Sair<br>\n",
        "\n",
        "Digite o número para a operação correspondente e caso o usuário introduza qualquer outro, o sistema deve mostrar a mensagem “Essa opção não existe” e voltar ao menu de opções.\n",
        "\n",
        "Após a seleção, o sistema deve pedir para o usuário inserir o primeiro e segundo valor, um de cada. Depois precisa executar a operação e mostrar o resultado na tela. Quando o usuário escolher a opção “Sair”, o sistema irá parar.\n",
        "\n",
        "É necessário que o sistema mostre as opções sempre que finalizar uma operação e mostrar o resultado."
      ],
      "metadata": {
        "id": "zXykN6SEkPmY"
      }
    },
    {
      "cell_type": "code",
      "source": [
        "import sys\n",
        "\n",
        "def escolhaOperacao ():\n",
        "  print(\"Olá, escolha um número de 1 à 4\")\n",
        "  print(\"Escolha 1 para soma\")\n",
        "  print(\"Escolha 2 para subtração\")\n",
        "  print(\"Escolha 3 para mulitiplicação\")\n",
        "  print(\"Escolha 4 para divisão\")\n",
        "  print(\"Escolha 0 para sair\")\n",
        "  print(\"Digite um número: \")\n",
        "  try:\n",
        "    entrada = int(input())\n",
        "  except:\n",
        "    print(\"Essa opção não existe!\")\n",
        "    return escolhaOperacao()\n",
        "\n",
        "  if(entrada == 0):\n",
        "    print(\"Fim da Operação\")\n",
        "    return sys.exit\n",
        "  elif(entrada == 1):\n",
        "    soma = float\n",
        "    print(\"Digite o primeiro número da soma:\")\n",
        "    num_01 = float(input())\n",
        "    print(\"Digite o segundo número da soma: \")\n",
        "    num_02 = float(input())\n",
        "    soma = num_01 + num_02\n",
        "    return print(\"A soma dos números é:\", soma)\n",
        "  elif(entrada == 2):\n",
        "    subtracao = float\n",
        "    print(\"Digite o primeiro número da subtração:\")\n",
        "    num_01 = float(input())\n",
        "    print(\"Digite o segundo número da subtração:\")\n",
        "    num_02 = float(input())\n",
        "    subtracao = num_01 - num_02\n",
        "    return print(\"A subtração dos números é:\", subtracao)\n",
        "  elif(entrada == 3):\n",
        "    multiplicacao = float\n",
        "    print(\"Digite o primeiro número da multiplicação:\")\n",
        "    num_01 = float(input())\n",
        "    print(\"Digite o segundo número da multiplicação:\")\n",
        "    num_02 = float(input())\n",
        "    multiplicacao = num_01 * num_02\n",
        "    return print(\"A multiplicação dos números é:\", multiplicacao)\n",
        "  elif(entrada == 4):\n",
        "    divisao = float\n",
        "    print(\"Digite o primeiro número da divisão:\")\n",
        "    num_01 = float(input())\n",
        "    print(\"Digite o segundo número da divisão:\")\n",
        "    num_02 = float(input())\n",
        "    if num_02 != 0:\n",
        "      divisao = num_01 / num_02\n",
        "      return print(\"A divisão dos números é:\", divisao)\n",
        "    else:\n",
        "      print(\"O dividor tem que ser um número diferente de ZERO\")\n",
        "      return escolhaOperacao()"
      ],
      "metadata": {
        "id": "UB-aK6eSiOr3"
      },
      "execution_count": 254,
      "outputs": []
    },
    {
      "cell_type": "code",
      "source": [
        "escolha = escolhaOperacao()\n",
        "print(escolha)"
      ],
      "metadata": {
        "colab": {
          "base_uri": "https://localhost:8080/"
        },
        "id": "-rqgHRTNksPA",
        "outputId": "4c630461-477b-4af8-f18e-a8de473d24f5"
      },
      "execution_count": 256,
      "outputs": [
        {
          "output_type": "stream",
          "name": "stdout",
          "text": [
            "Olá, escolha um número de 1 à 4\n",
            "Escolha 1 para soma\n",
            "Escolha 2 para subtração\n",
            "Escolha 3 para mulitiplicação\n",
            "Escolha 4 para divisão\n",
            "Escolha 0 para sair\n",
            "Digite um número: \n",
            "4\n",
            "Digite o primeiro número da divisão:\n",
            "10\n",
            "Digite o segundo número da divisão:\n",
            "2\n",
            "A divisão dos números é: 5.0\n",
            "None\n"
          ]
        }
      ]
    }
  ]
}